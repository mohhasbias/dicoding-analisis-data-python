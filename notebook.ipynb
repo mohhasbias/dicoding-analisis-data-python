{
 "nbformat": 4,
 "nbformat_minor": 0,
 "metadata": {
  "colab": {
   "provenance": []
  },
  "kernelspec": {
   "name": "python3",
   "language": "python",
   "display_name": "Python 3 (ipykernel)"
  },
  "language_info": {
   "name": "python"
  }
 },
 "cells": [
  {
   "cell_type": "markdown",
   "source": [
    "# Proyek Analisis Data: Air Quality\n",
    "- Nama: Moh. Hasbi Assidiqi\n",
    "- Email: hasbi@pens.ac.id\n",
    "- Id Dicoding: mohhasbias"
   ],
   "metadata": {
    "id": "cP5zh7Ww85Fm"
   }
  },
  {
   "cell_type": "markdown",
   "source": [
    "## Menentukan Pertanyaan Bisnis"
   ],
   "metadata": {
    "id": "ggwOFmpI88dG"
   }
  },
  {
   "cell_type": "markdown",
   "source": [
    "- Bagaimana Air Quality dari masing-masing area?\n",
    "- Bagaimana Tren Air Quality dari masing-masing area dari waktu ke waktu? "
   ],
   "metadata": {
    "id": "6irqmTtg8-IC"
   }
  },
  {
   "cell_type": "markdown",
   "source": [
    "## Menyiapkan semua library yang dibuthkan"
   ],
   "metadata": {
    "id": "EueHsNk89AsY"
   }
  },
  {
   "cell_type": "code",
   "execution_count": 8,
   "metadata": {
    "id": "4cmWv4qc8xWu",
    "ExecuteTime": {
     "end_time": "2023-12-11T11:15:20.486022Z",
     "start_time": "2023-12-11T11:15:20.415721Z"
    }
   },
   "outputs": [],
   "source": [
    "import pandas as pd\n",
    "import numpy as np\n",
    "import matplotlib.pyplot as plt\n",
    "import seaborn as sns\n",
    "import datetime as dt\n",
    "import os"
   ]
  },
  {
   "cell_type": "markdown",
   "source": [
    "## Data Wrangling"
   ],
   "metadata": {
    "id": "7DwSpkkZ9BqV"
   }
  },
  {
   "cell_type": "markdown",
   "source": [
    "### Gathering Data"
   ],
   "metadata": {
    "id": "ZuJuLGxe9D9O"
   }
  },
  {
   "cell_type": "code",
   "execution_count": 9,
   "outputs": [],
   "source": [
    "from fnmatch import fnmatch\n",
    "\n",
    "files = os.listdir('data')\n",
    "files\n",
    "\n",
    "PRSA_CSV_Files = [file for file in files if fnmatch(file, 'PRSA*.csv')]"
   ],
   "metadata": {
    "collapsed": false,
    "ExecuteTime": {
     "end_time": "2023-12-11T11:15:20.520594Z",
     "start_time": "2023-12-11T11:15:20.492794Z"
    }
   }
  },
  {
   "cell_type": "code",
   "execution_count": 10,
   "outputs": [
    {
     "data": {
      "text/plain": "   No  year  month  day  hour  PM2.5  PM10  SO2  NO2     CO    O3  TEMP  \\\n0   1  2013      3    1     0    6.0  18.0  5.0  NaN  800.0  88.0   0.1   \n1   2  2013      3    1     1    6.0  15.0  5.0  NaN  800.0  88.0  -0.3   \n2   3  2013      3    1     2    5.0  18.0  NaN  NaN  700.0  52.0  -0.7   \n3   4  2013      3    1     3    6.0  20.0  6.0  NaN    NaN   NaN  -1.0   \n4   5  2013      3    1     4    5.0  17.0  5.0  NaN  600.0  73.0  -1.3   \n\n     PRES  DEWP  RAIN   wd  WSPM  station  \n0  1021.1 -18.6   0.0   NW   4.4  Gucheng  \n1  1021.5 -19.0   0.0   NW   4.0  Gucheng  \n2  1021.5 -19.8   0.0  WNW   4.6  Gucheng  \n3  1022.7 -21.2   0.0    W   2.8  Gucheng  \n4  1023.0 -21.4   0.0  WNW   3.6  Gucheng  ",
      "text/html": "<div>\n<style scoped>\n    .dataframe tbody tr th:only-of-type {\n        vertical-align: middle;\n    }\n\n    .dataframe tbody tr th {\n        vertical-align: top;\n    }\n\n    .dataframe thead th {\n        text-align: right;\n    }\n</style>\n<table border=\"1\" class=\"dataframe\">\n  <thead>\n    <tr style=\"text-align: right;\">\n      <th></th>\n      <th>No</th>\n      <th>year</th>\n      <th>month</th>\n      <th>day</th>\n      <th>hour</th>\n      <th>PM2.5</th>\n      <th>PM10</th>\n      <th>SO2</th>\n      <th>NO2</th>\n      <th>CO</th>\n      <th>O3</th>\n      <th>TEMP</th>\n      <th>PRES</th>\n      <th>DEWP</th>\n      <th>RAIN</th>\n      <th>wd</th>\n      <th>WSPM</th>\n      <th>station</th>\n    </tr>\n  </thead>\n  <tbody>\n    <tr>\n      <th>0</th>\n      <td>1</td>\n      <td>2013</td>\n      <td>3</td>\n      <td>1</td>\n      <td>0</td>\n      <td>6.0</td>\n      <td>18.0</td>\n      <td>5.0</td>\n      <td>NaN</td>\n      <td>800.0</td>\n      <td>88.0</td>\n      <td>0.1</td>\n      <td>1021.1</td>\n      <td>-18.6</td>\n      <td>0.0</td>\n      <td>NW</td>\n      <td>4.4</td>\n      <td>Gucheng</td>\n    </tr>\n    <tr>\n      <th>1</th>\n      <td>2</td>\n      <td>2013</td>\n      <td>3</td>\n      <td>1</td>\n      <td>1</td>\n      <td>6.0</td>\n      <td>15.0</td>\n      <td>5.0</td>\n      <td>NaN</td>\n      <td>800.0</td>\n      <td>88.0</td>\n      <td>-0.3</td>\n      <td>1021.5</td>\n      <td>-19.0</td>\n      <td>0.0</td>\n      <td>NW</td>\n      <td>4.0</td>\n      <td>Gucheng</td>\n    </tr>\n    <tr>\n      <th>2</th>\n      <td>3</td>\n      <td>2013</td>\n      <td>3</td>\n      <td>1</td>\n      <td>2</td>\n      <td>5.0</td>\n      <td>18.0</td>\n      <td>NaN</td>\n      <td>NaN</td>\n      <td>700.0</td>\n      <td>52.0</td>\n      <td>-0.7</td>\n      <td>1021.5</td>\n      <td>-19.8</td>\n      <td>0.0</td>\n      <td>WNW</td>\n      <td>4.6</td>\n      <td>Gucheng</td>\n    </tr>\n    <tr>\n      <th>3</th>\n      <td>4</td>\n      <td>2013</td>\n      <td>3</td>\n      <td>1</td>\n      <td>3</td>\n      <td>6.0</td>\n      <td>20.0</td>\n      <td>6.0</td>\n      <td>NaN</td>\n      <td>NaN</td>\n      <td>NaN</td>\n      <td>-1.0</td>\n      <td>1022.7</td>\n      <td>-21.2</td>\n      <td>0.0</td>\n      <td>W</td>\n      <td>2.8</td>\n      <td>Gucheng</td>\n    </tr>\n    <tr>\n      <th>4</th>\n      <td>5</td>\n      <td>2013</td>\n      <td>3</td>\n      <td>1</td>\n      <td>4</td>\n      <td>5.0</td>\n      <td>17.0</td>\n      <td>5.0</td>\n      <td>NaN</td>\n      <td>600.0</td>\n      <td>73.0</td>\n      <td>-1.3</td>\n      <td>1023.0</td>\n      <td>-21.4</td>\n      <td>0.0</td>\n      <td>WNW</td>\n      <td>3.6</td>\n      <td>Gucheng</td>\n    </tr>\n  </tbody>\n</table>\n</div>"
     },
     "execution_count": 10,
     "metadata": {},
     "output_type": "execute_result"
    }
   ],
   "source": [
    "# read all files to dfg\n",
    "df = pd.DataFrame()\n",
    "for file in PRSA_CSV_Files:\n",
    "    df_temp = pd.read_csv('data/'+file)\n",
    "    df = pd.concat([df, df_temp])\n",
    "\n",
    "df.head()"
   ],
   "metadata": {
    "collapsed": false,
    "ExecuteTime": {
     "end_time": "2023-12-11T11:15:22.278527Z",
     "start_time": "2023-12-11T11:15:20.524725Z"
    }
   }
  },
  {
   "cell_type": "code",
   "execution_count": 11,
   "outputs": [
    {
     "data": {
      "text/plain": "          No  year  month  day  hour  PM2.5  PM10   SO2   NO2      CO    O3  \\\n35059  35060  2017      2   28    19   27.0  72.0   8.0  92.0   800.0  16.0   \n35060  35061  2017      2   28    20   47.0  55.0  17.0  86.0  1100.0  19.0   \n35061  35062  2017      2   28    21   18.0  28.0   4.0  30.0   500.0  64.0   \n35062  35063  2017      2   28    22   18.0  20.0   9.0  33.0   500.0  59.0   \n35063  35064  2017      2   28    23   15.0  22.0  13.0  34.0   500.0  60.0   \n\n       TEMP    PRES  DEWP  RAIN   wd  WSPM station  \n35059  10.3  1014.2 -12.4   0.0    W   1.8  Shunyi  \n35060   9.8  1014.5  -9.9   0.0   NW   1.5  Shunyi  \n35061   9.1  1014.6 -12.7   0.0   NE   1.7  Shunyi  \n35062   7.1  1015.2 -13.2   0.0  WNW   1.8  Shunyi  \n35063   7.4  1014.9 -11.9   0.0    N   1.4  Shunyi  ",
      "text/html": "<div>\n<style scoped>\n    .dataframe tbody tr th:only-of-type {\n        vertical-align: middle;\n    }\n\n    .dataframe tbody tr th {\n        vertical-align: top;\n    }\n\n    .dataframe thead th {\n        text-align: right;\n    }\n</style>\n<table border=\"1\" class=\"dataframe\">\n  <thead>\n    <tr style=\"text-align: right;\">\n      <th></th>\n      <th>No</th>\n      <th>year</th>\n      <th>month</th>\n      <th>day</th>\n      <th>hour</th>\n      <th>PM2.5</th>\n      <th>PM10</th>\n      <th>SO2</th>\n      <th>NO2</th>\n      <th>CO</th>\n      <th>O3</th>\n      <th>TEMP</th>\n      <th>PRES</th>\n      <th>DEWP</th>\n      <th>RAIN</th>\n      <th>wd</th>\n      <th>WSPM</th>\n      <th>station</th>\n    </tr>\n  </thead>\n  <tbody>\n    <tr>\n      <th>35059</th>\n      <td>35060</td>\n      <td>2017</td>\n      <td>2</td>\n      <td>28</td>\n      <td>19</td>\n      <td>27.0</td>\n      <td>72.0</td>\n      <td>8.0</td>\n      <td>92.0</td>\n      <td>800.0</td>\n      <td>16.0</td>\n      <td>10.3</td>\n      <td>1014.2</td>\n      <td>-12.4</td>\n      <td>0.0</td>\n      <td>W</td>\n      <td>1.8</td>\n      <td>Shunyi</td>\n    </tr>\n    <tr>\n      <th>35060</th>\n      <td>35061</td>\n      <td>2017</td>\n      <td>2</td>\n      <td>28</td>\n      <td>20</td>\n      <td>47.0</td>\n      <td>55.0</td>\n      <td>17.0</td>\n      <td>86.0</td>\n      <td>1100.0</td>\n      <td>19.0</td>\n      <td>9.8</td>\n      <td>1014.5</td>\n      <td>-9.9</td>\n      <td>0.0</td>\n      <td>NW</td>\n      <td>1.5</td>\n      <td>Shunyi</td>\n    </tr>\n    <tr>\n      <th>35061</th>\n      <td>35062</td>\n      <td>2017</td>\n      <td>2</td>\n      <td>28</td>\n      <td>21</td>\n      <td>18.0</td>\n      <td>28.0</td>\n      <td>4.0</td>\n      <td>30.0</td>\n      <td>500.0</td>\n      <td>64.0</td>\n      <td>9.1</td>\n      <td>1014.6</td>\n      <td>-12.7</td>\n      <td>0.0</td>\n      <td>NE</td>\n      <td>1.7</td>\n      <td>Shunyi</td>\n    </tr>\n    <tr>\n      <th>35062</th>\n      <td>35063</td>\n      <td>2017</td>\n      <td>2</td>\n      <td>28</td>\n      <td>22</td>\n      <td>18.0</td>\n      <td>20.0</td>\n      <td>9.0</td>\n      <td>33.0</td>\n      <td>500.0</td>\n      <td>59.0</td>\n      <td>7.1</td>\n      <td>1015.2</td>\n      <td>-13.2</td>\n      <td>0.0</td>\n      <td>WNW</td>\n      <td>1.8</td>\n      <td>Shunyi</td>\n    </tr>\n    <tr>\n      <th>35063</th>\n      <td>35064</td>\n      <td>2017</td>\n      <td>2</td>\n      <td>28</td>\n      <td>23</td>\n      <td>15.0</td>\n      <td>22.0</td>\n      <td>13.0</td>\n      <td>34.0</td>\n      <td>500.0</td>\n      <td>60.0</td>\n      <td>7.4</td>\n      <td>1014.9</td>\n      <td>-11.9</td>\n      <td>0.0</td>\n      <td>N</td>\n      <td>1.4</td>\n      <td>Shunyi</td>\n    </tr>\n  </tbody>\n</table>\n</div>"
     },
     "execution_count": 11,
     "metadata": {},
     "output_type": "execute_result"
    }
   ],
   "source": [
    "df.tail()"
   ],
   "metadata": {
    "collapsed": false,
    "ExecuteTime": {
     "end_time": "2023-12-11T11:15:22.332005Z",
     "start_time": "2023-12-11T11:15:22.303723Z"
    }
   }
  },
  {
   "cell_type": "markdown",
   "source": [
    "### Assessing Data"
   ],
   "metadata": {
    "id": "BvZAfrSH9F2U"
   }
  },
  {
   "cell_type": "code",
   "source": [
    "df.info()"
   ],
   "metadata": {
    "id": "fx7PaLsV9G8M",
    "ExecuteTime": {
     "end_time": "2023-12-11T11:15:22.585794Z",
     "start_time": "2023-12-11T11:15:22.319940Z"
    }
   },
   "execution_count": 12,
   "outputs": [
    {
     "name": "stdout",
     "output_type": "stream",
     "text": [
      "<class 'pandas.core.frame.DataFrame'>\n",
      "Index: 420768 entries, 0 to 35063\n",
      "Data columns (total 18 columns):\n",
      " #   Column   Non-Null Count   Dtype  \n",
      "---  ------   --------------   -----  \n",
      " 0   No       420768 non-null  int64  \n",
      " 1   year     420768 non-null  int64  \n",
      " 2   month    420768 non-null  int64  \n",
      " 3   day      420768 non-null  int64  \n",
      " 4   hour     420768 non-null  int64  \n",
      " 5   PM2.5    412029 non-null  float64\n",
      " 6   PM10     414319 non-null  float64\n",
      " 7   SO2      411747 non-null  float64\n",
      " 8   NO2      408652 non-null  float64\n",
      " 9   CO       400067 non-null  float64\n",
      " 10  O3       407491 non-null  float64\n",
      " 11  TEMP     420370 non-null  float64\n",
      " 12  PRES     420375 non-null  float64\n",
      " 13  DEWP     420365 non-null  float64\n",
      " 14  RAIN     420378 non-null  float64\n",
      " 15  wd       418946 non-null  object \n",
      " 16  WSPM     420450 non-null  float64\n",
      " 17  station  420768 non-null  object \n",
      "dtypes: float64(11), int64(5), object(2)\n",
      "memory usage: 61.0+ MB\n"
     ]
    }
   ]
  },
  {
   "cell_type": "code",
   "execution_count": 13,
   "outputs": [
    {
     "data": {
      "text/plain": "No             0\nyear           0\nmonth          0\nday            0\nhour           0\nPM2.5       8739\nPM10        6449\nSO2         9021\nNO2        12116\nCO         20701\nO3         13277\nTEMP         398\nPRES         393\nDEWP         403\nRAIN         390\nwd          1822\nWSPM         318\nstation        0\ndtype: int64"
     },
     "execution_count": 13,
     "metadata": {},
     "output_type": "execute_result"
    }
   ],
   "source": [
    "df.isna().sum()"
   ],
   "metadata": {
    "collapsed": false,
    "ExecuteTime": {
     "end_time": "2023-12-11T11:15:22.589284Z",
     "start_time": "2023-12-11T11:15:22.390455Z"
    }
   }
  },
  {
   "cell_type": "code",
   "execution_count": 14,
   "outputs": [
    {
     "data": {
      "text/plain": "0"
     },
     "execution_count": 14,
     "metadata": {},
     "output_type": "execute_result"
    }
   ],
   "source": [
    "df.duplicated().sum()"
   ],
   "metadata": {
    "collapsed": false,
    "ExecuteTime": {
     "end_time": "2023-12-11T11:15:22.826817Z",
     "start_time": "2023-12-11T11:15:22.427049Z"
    }
   }
  },
  {
   "cell_type": "code",
   "execution_count": 15,
   "outputs": [
    {
     "data": {
      "text/plain": "                  No           year          month            day  \\\ncount  420768.000000  420768.000000  420768.000000  420768.000000   \nmean    17532.500000    2014.662560       6.522930      15.729637   \nstd     10122.116943       1.177198       3.448707       8.800102   \nmin         1.000000    2013.000000       1.000000       1.000000   \n25%      8766.750000    2014.000000       4.000000       8.000000   \n50%     17532.500000    2015.000000       7.000000      16.000000   \n75%     26298.250000    2016.000000      10.000000      23.000000   \nmax     35064.000000    2017.000000      12.000000      31.000000   \n\n                hour          PM2.5           PM10            SO2  \\\ncount  420768.000000  412029.000000  414319.000000  411747.000000   \nmean       11.500000      79.793428     104.602618      15.830835   \nstd         6.922195      80.822391      91.772426      21.650603   \nmin         0.000000       2.000000       2.000000       0.285600   \n25%         5.750000      20.000000      36.000000       3.000000   \n50%        11.500000      55.000000      82.000000       7.000000   \n75%        17.250000     111.000000     145.000000      20.000000   \nmax        23.000000     999.000000     999.000000     500.000000   \n\n                 NO2             CO             O3           TEMP  \\\ncount  408652.000000  400067.000000  407491.000000  420370.000000   \nmean       50.638586    1230.766454      57.372271      13.538976   \nstd        35.127912    1160.182716      56.661607      11.436139   \nmin         1.026500     100.000000       0.214200     -19.900000   \n25%        23.000000     500.000000      11.000000       3.100000   \n50%        43.000000     900.000000      45.000000      14.500000   \n75%        71.000000    1500.000000      82.000000      23.300000   \nmax       290.000000   10000.000000    1071.000000      41.600000   \n\n                PRES           DEWP           RAIN           WSPM  \ncount  420375.000000  420365.000000  420378.000000  420450.000000  \nmean     1010.746982       2.490822       0.064476       1.729711  \nstd        10.474055      13.793847       0.821004       1.246386  \nmin       982.400000     -43.400000       0.000000       0.000000  \n25%      1002.300000      -8.900000       0.000000       0.900000  \n50%      1010.400000       3.100000       0.000000       1.400000  \n75%      1019.000000      15.100000       0.000000       2.200000  \nmax      1042.800000      29.100000      72.500000      13.200000  ",
      "text/html": "<div>\n<style scoped>\n    .dataframe tbody tr th:only-of-type {\n        vertical-align: middle;\n    }\n\n    .dataframe tbody tr th {\n        vertical-align: top;\n    }\n\n    .dataframe thead th {\n        text-align: right;\n    }\n</style>\n<table border=\"1\" class=\"dataframe\">\n  <thead>\n    <tr style=\"text-align: right;\">\n      <th></th>\n      <th>No</th>\n      <th>year</th>\n      <th>month</th>\n      <th>day</th>\n      <th>hour</th>\n      <th>PM2.5</th>\n      <th>PM10</th>\n      <th>SO2</th>\n      <th>NO2</th>\n      <th>CO</th>\n      <th>O3</th>\n      <th>TEMP</th>\n      <th>PRES</th>\n      <th>DEWP</th>\n      <th>RAIN</th>\n      <th>WSPM</th>\n    </tr>\n  </thead>\n  <tbody>\n    <tr>\n      <th>count</th>\n      <td>420768.000000</td>\n      <td>420768.000000</td>\n      <td>420768.000000</td>\n      <td>420768.000000</td>\n      <td>420768.000000</td>\n      <td>412029.000000</td>\n      <td>414319.000000</td>\n      <td>411747.000000</td>\n      <td>408652.000000</td>\n      <td>400067.000000</td>\n      <td>407491.000000</td>\n      <td>420370.000000</td>\n      <td>420375.000000</td>\n      <td>420365.000000</td>\n      <td>420378.000000</td>\n      <td>420450.000000</td>\n    </tr>\n    <tr>\n      <th>mean</th>\n      <td>17532.500000</td>\n      <td>2014.662560</td>\n      <td>6.522930</td>\n      <td>15.729637</td>\n      <td>11.500000</td>\n      <td>79.793428</td>\n      <td>104.602618</td>\n      <td>15.830835</td>\n      <td>50.638586</td>\n      <td>1230.766454</td>\n      <td>57.372271</td>\n      <td>13.538976</td>\n      <td>1010.746982</td>\n      <td>2.490822</td>\n      <td>0.064476</td>\n      <td>1.729711</td>\n    </tr>\n    <tr>\n      <th>std</th>\n      <td>10122.116943</td>\n      <td>1.177198</td>\n      <td>3.448707</td>\n      <td>8.800102</td>\n      <td>6.922195</td>\n      <td>80.822391</td>\n      <td>91.772426</td>\n      <td>21.650603</td>\n      <td>35.127912</td>\n      <td>1160.182716</td>\n      <td>56.661607</td>\n      <td>11.436139</td>\n      <td>10.474055</td>\n      <td>13.793847</td>\n      <td>0.821004</td>\n      <td>1.246386</td>\n    </tr>\n    <tr>\n      <th>min</th>\n      <td>1.000000</td>\n      <td>2013.000000</td>\n      <td>1.000000</td>\n      <td>1.000000</td>\n      <td>0.000000</td>\n      <td>2.000000</td>\n      <td>2.000000</td>\n      <td>0.285600</td>\n      <td>1.026500</td>\n      <td>100.000000</td>\n      <td>0.214200</td>\n      <td>-19.900000</td>\n      <td>982.400000</td>\n      <td>-43.400000</td>\n      <td>0.000000</td>\n      <td>0.000000</td>\n    </tr>\n    <tr>\n      <th>25%</th>\n      <td>8766.750000</td>\n      <td>2014.000000</td>\n      <td>4.000000</td>\n      <td>8.000000</td>\n      <td>5.750000</td>\n      <td>20.000000</td>\n      <td>36.000000</td>\n      <td>3.000000</td>\n      <td>23.000000</td>\n      <td>500.000000</td>\n      <td>11.000000</td>\n      <td>3.100000</td>\n      <td>1002.300000</td>\n      <td>-8.900000</td>\n      <td>0.000000</td>\n      <td>0.900000</td>\n    </tr>\n    <tr>\n      <th>50%</th>\n      <td>17532.500000</td>\n      <td>2015.000000</td>\n      <td>7.000000</td>\n      <td>16.000000</td>\n      <td>11.500000</td>\n      <td>55.000000</td>\n      <td>82.000000</td>\n      <td>7.000000</td>\n      <td>43.000000</td>\n      <td>900.000000</td>\n      <td>45.000000</td>\n      <td>14.500000</td>\n      <td>1010.400000</td>\n      <td>3.100000</td>\n      <td>0.000000</td>\n      <td>1.400000</td>\n    </tr>\n    <tr>\n      <th>75%</th>\n      <td>26298.250000</td>\n      <td>2016.000000</td>\n      <td>10.000000</td>\n      <td>23.000000</td>\n      <td>17.250000</td>\n      <td>111.000000</td>\n      <td>145.000000</td>\n      <td>20.000000</td>\n      <td>71.000000</td>\n      <td>1500.000000</td>\n      <td>82.000000</td>\n      <td>23.300000</td>\n      <td>1019.000000</td>\n      <td>15.100000</td>\n      <td>0.000000</td>\n      <td>2.200000</td>\n    </tr>\n    <tr>\n      <th>max</th>\n      <td>35064.000000</td>\n      <td>2017.000000</td>\n      <td>12.000000</td>\n      <td>31.000000</td>\n      <td>23.000000</td>\n      <td>999.000000</td>\n      <td>999.000000</td>\n      <td>500.000000</td>\n      <td>290.000000</td>\n      <td>10000.000000</td>\n      <td>1071.000000</td>\n      <td>41.600000</td>\n      <td>1042.800000</td>\n      <td>29.100000</td>\n      <td>72.500000</td>\n      <td>13.200000</td>\n    </tr>\n  </tbody>\n</table>\n</div>"
     },
     "execution_count": 15,
     "metadata": {},
     "output_type": "execute_result"
    }
   ],
   "source": [
    "df.describe()"
   ],
   "metadata": {
    "collapsed": false,
    "ExecuteTime": {
     "end_time": "2023-12-11T11:15:23.278150Z",
     "start_time": "2023-12-11T11:15:22.819498Z"
    }
   }
  },
  {
   "cell_type": "markdown",
   "source": [
    "### Cleaning Data"
   ],
   "metadata": {
    "id": "Uz5dgcJm9HW5"
   }
  },
  {
   "cell_type": "code",
   "source": [
    "df[df[\"PM2.5\"].isna()]"
   ],
   "metadata": {
    "id": "CCszTdXD9Ivf",
    "ExecuteTime": {
     "end_time": "2023-12-11T11:15:23.393247Z",
     "start_time": "2023-12-11T11:15:23.273311Z"
    }
   },
   "execution_count": 16,
   "outputs": [
    {
     "data": {
      "text/plain": "          No  year  month  day  hour  PM2.5  PM10    SO2      NO2     CO  \\\n995      996  2013      4   11    11    NaN  30.0  8.000  19.0000  500.0   \n996      997  2013      4   11    12    NaN  30.0  8.000  16.0000    NaN   \n997      998  2013      4   11    13    NaN  27.0  7.000  13.0000  400.0   \n998      999  2013      4   11    14    NaN  28.0  6.000  16.0000  400.0   \n999     1000  2013      4   11    15    NaN  69.0  4.284  15.1922    NaN   \n...      ...   ...    ...  ...   ...    ...   ...    ...      ...    ...   \n34880  34881  2017      2   21     8    NaN   NaN    NaN      NaN    NaN   \n34883  34884  2017      2   21    11    NaN   NaN    NaN      NaN    NaN   \n34885  34886  2017      2   21    13    NaN   NaN    NaN      NaN    NaN   \n34936  34937  2017      2   23    16    NaN   NaN  2.000  14.0000  300.0   \n34937  34938  2017      2   23    17    NaN   NaN  2.000  17.0000  300.0   \n\n             O3  TEMP    PRES  DEWP  RAIN   wd  WSPM  station  \n995     92.3202  13.8  1011.5 -13.3   0.0  NNW   1.6  Gucheng  \n996     97.8894  14.9  1010.4 -13.3   0.0    N   3.5  Gucheng  \n997    103.6728  16.4  1009.5 -13.1   0.0  NNW   2.3  Gucheng  \n998    103.2444  17.0  1008.7 -13.7   0.0   NE   2.7  Gucheng  \n999    105.8148  17.1  1008.0 -13.7   0.0    W   3.3  Gucheng  \n...         ...   ...     ...   ...   ...  ...   ...      ...  \n34880       NaN  -2.1  1029.7 -15.5   0.0    E   0.6   Shunyi  \n34883       NaN  -0.2  1028.9 -14.2   0.0   SE   1.3   Shunyi  \n34885       NaN  -0.1  1027.8  -8.5   0.0    S   3.6   Shunyi  \n34936   84.0000   8.1  1022.5 -15.5   0.0  WNW   3.9   Shunyi  \n34937       NaN   7.5  1022.2 -16.0   0.0    W   4.7   Shunyi  \n\n[8739 rows x 18 columns]",
      "text/html": "<div>\n<style scoped>\n    .dataframe tbody tr th:only-of-type {\n        vertical-align: middle;\n    }\n\n    .dataframe tbody tr th {\n        vertical-align: top;\n    }\n\n    .dataframe thead th {\n        text-align: right;\n    }\n</style>\n<table border=\"1\" class=\"dataframe\">\n  <thead>\n    <tr style=\"text-align: right;\">\n      <th></th>\n      <th>No</th>\n      <th>year</th>\n      <th>month</th>\n      <th>day</th>\n      <th>hour</th>\n      <th>PM2.5</th>\n      <th>PM10</th>\n      <th>SO2</th>\n      <th>NO2</th>\n      <th>CO</th>\n      <th>O3</th>\n      <th>TEMP</th>\n      <th>PRES</th>\n      <th>DEWP</th>\n      <th>RAIN</th>\n      <th>wd</th>\n      <th>WSPM</th>\n      <th>station</th>\n    </tr>\n  </thead>\n  <tbody>\n    <tr>\n      <th>995</th>\n      <td>996</td>\n      <td>2013</td>\n      <td>4</td>\n      <td>11</td>\n      <td>11</td>\n      <td>NaN</td>\n      <td>30.0</td>\n      <td>8.000</td>\n      <td>19.0000</td>\n      <td>500.0</td>\n      <td>92.3202</td>\n      <td>13.8</td>\n      <td>1011.5</td>\n      <td>-13.3</td>\n      <td>0.0</td>\n      <td>NNW</td>\n      <td>1.6</td>\n      <td>Gucheng</td>\n    </tr>\n    <tr>\n      <th>996</th>\n      <td>997</td>\n      <td>2013</td>\n      <td>4</td>\n      <td>11</td>\n      <td>12</td>\n      <td>NaN</td>\n      <td>30.0</td>\n      <td>8.000</td>\n      <td>16.0000</td>\n      <td>NaN</td>\n      <td>97.8894</td>\n      <td>14.9</td>\n      <td>1010.4</td>\n      <td>-13.3</td>\n      <td>0.0</td>\n      <td>N</td>\n      <td>3.5</td>\n      <td>Gucheng</td>\n    </tr>\n    <tr>\n      <th>997</th>\n      <td>998</td>\n      <td>2013</td>\n      <td>4</td>\n      <td>11</td>\n      <td>13</td>\n      <td>NaN</td>\n      <td>27.0</td>\n      <td>7.000</td>\n      <td>13.0000</td>\n      <td>400.0</td>\n      <td>103.6728</td>\n      <td>16.4</td>\n      <td>1009.5</td>\n      <td>-13.1</td>\n      <td>0.0</td>\n      <td>NNW</td>\n      <td>2.3</td>\n      <td>Gucheng</td>\n    </tr>\n    <tr>\n      <th>998</th>\n      <td>999</td>\n      <td>2013</td>\n      <td>4</td>\n      <td>11</td>\n      <td>14</td>\n      <td>NaN</td>\n      <td>28.0</td>\n      <td>6.000</td>\n      <td>16.0000</td>\n      <td>400.0</td>\n      <td>103.2444</td>\n      <td>17.0</td>\n      <td>1008.7</td>\n      <td>-13.7</td>\n      <td>0.0</td>\n      <td>NE</td>\n      <td>2.7</td>\n      <td>Gucheng</td>\n    </tr>\n    <tr>\n      <th>999</th>\n      <td>1000</td>\n      <td>2013</td>\n      <td>4</td>\n      <td>11</td>\n      <td>15</td>\n      <td>NaN</td>\n      <td>69.0</td>\n      <td>4.284</td>\n      <td>15.1922</td>\n      <td>NaN</td>\n      <td>105.8148</td>\n      <td>17.1</td>\n      <td>1008.0</td>\n      <td>-13.7</td>\n      <td>0.0</td>\n      <td>W</td>\n      <td>3.3</td>\n      <td>Gucheng</td>\n    </tr>\n    <tr>\n      <th>...</th>\n      <td>...</td>\n      <td>...</td>\n      <td>...</td>\n      <td>...</td>\n      <td>...</td>\n      <td>...</td>\n      <td>...</td>\n      <td>...</td>\n      <td>...</td>\n      <td>...</td>\n      <td>...</td>\n      <td>...</td>\n      <td>...</td>\n      <td>...</td>\n      <td>...</td>\n      <td>...</td>\n      <td>...</td>\n      <td>...</td>\n    </tr>\n    <tr>\n      <th>34880</th>\n      <td>34881</td>\n      <td>2017</td>\n      <td>2</td>\n      <td>21</td>\n      <td>8</td>\n      <td>NaN</td>\n      <td>NaN</td>\n      <td>NaN</td>\n      <td>NaN</td>\n      <td>NaN</td>\n      <td>NaN</td>\n      <td>-2.1</td>\n      <td>1029.7</td>\n      <td>-15.5</td>\n      <td>0.0</td>\n      <td>E</td>\n      <td>0.6</td>\n      <td>Shunyi</td>\n    </tr>\n    <tr>\n      <th>34883</th>\n      <td>34884</td>\n      <td>2017</td>\n      <td>2</td>\n      <td>21</td>\n      <td>11</td>\n      <td>NaN</td>\n      <td>NaN</td>\n      <td>NaN</td>\n      <td>NaN</td>\n      <td>NaN</td>\n      <td>NaN</td>\n      <td>-0.2</td>\n      <td>1028.9</td>\n      <td>-14.2</td>\n      <td>0.0</td>\n      <td>SE</td>\n      <td>1.3</td>\n      <td>Shunyi</td>\n    </tr>\n    <tr>\n      <th>34885</th>\n      <td>34886</td>\n      <td>2017</td>\n      <td>2</td>\n      <td>21</td>\n      <td>13</td>\n      <td>NaN</td>\n      <td>NaN</td>\n      <td>NaN</td>\n      <td>NaN</td>\n      <td>NaN</td>\n      <td>NaN</td>\n      <td>-0.1</td>\n      <td>1027.8</td>\n      <td>-8.5</td>\n      <td>0.0</td>\n      <td>S</td>\n      <td>3.6</td>\n      <td>Shunyi</td>\n    </tr>\n    <tr>\n      <th>34936</th>\n      <td>34937</td>\n      <td>2017</td>\n      <td>2</td>\n      <td>23</td>\n      <td>16</td>\n      <td>NaN</td>\n      <td>NaN</td>\n      <td>2.000</td>\n      <td>14.0000</td>\n      <td>300.0</td>\n      <td>84.0000</td>\n      <td>8.1</td>\n      <td>1022.5</td>\n      <td>-15.5</td>\n      <td>0.0</td>\n      <td>WNW</td>\n      <td>3.9</td>\n      <td>Shunyi</td>\n    </tr>\n    <tr>\n      <th>34937</th>\n      <td>34938</td>\n      <td>2017</td>\n      <td>2</td>\n      <td>23</td>\n      <td>17</td>\n      <td>NaN</td>\n      <td>NaN</td>\n      <td>2.000</td>\n      <td>17.0000</td>\n      <td>300.0</td>\n      <td>NaN</td>\n      <td>7.5</td>\n      <td>1022.2</td>\n      <td>-16.0</td>\n      <td>0.0</td>\n      <td>W</td>\n      <td>4.7</td>\n      <td>Shunyi</td>\n    </tr>\n  </tbody>\n</table>\n<p>8739 rows × 18 columns</p>\n</div>"
     },
     "execution_count": 16,
     "metadata": {},
     "output_type": "execute_result"
    }
   ]
  },
  {
   "cell_type": "code",
   "execution_count": 17,
   "outputs": [
    {
     "data": {
      "text/plain": "station\nGucheng          35064\nHuairou          35064\nTiantan          35064\nChangping        35064\nGuanyuan         35064\nNongzhanguan     35064\nWanliu           35064\nDongsi           35064\nWanshouxigong    35064\nAotizhongxin     35064\nDingling         35064\nShunyi           35064\nName: count, dtype: int64"
     },
     "execution_count": 17,
     "metadata": {},
     "output_type": "execute_result"
    }
   ],
   "source": [
    "df[\"station\"].value_counts()"
   ],
   "metadata": {
    "collapsed": false,
    "ExecuteTime": {
     "end_time": "2023-12-11T11:15:23.436176Z",
     "start_time": "2023-12-11T11:15:23.350924Z"
    }
   }
  },
  {
   "cell_type": "code",
   "execution_count": 18,
   "outputs": [
    {
     "data": {
      "text/plain": "PM2.5\n3.0      8810\n10.0     7088\n9.0      6886\n8.0      6836\n11.0     6831\n         ... \n13.8        1\n881.0       1\n41.2        1\n60.5        1\n692.0       1\nName: count, Length: 888, dtype: int64"
     },
     "execution_count": 18,
     "metadata": {},
     "output_type": "execute_result"
    }
   ],
   "source": [
    "df[\"PM2.5\"].value_counts()"
   ],
   "metadata": {
    "collapsed": false,
    "ExecuteTime": {
     "end_time": "2023-12-11T11:15:23.470807Z",
     "start_time": "2023-12-11T11:15:23.358536Z"
    }
   }
  },
  {
   "cell_type": "code",
   "execution_count": 19,
   "outputs": [
    {
     "data": {
      "text/plain": "3.0"
     },
     "execution_count": 19,
     "metadata": {},
     "output_type": "execute_result"
    }
   ],
   "source": [
    "# get most frequent value of PM2.5\n",
    "df[\"PM2.5\"].value_counts().index[0]"
   ],
   "metadata": {
    "collapsed": false,
    "ExecuteTime": {
     "end_time": "2023-12-11T11:15:23.474547Z",
     "start_time": "2023-12-11T11:15:23.399781Z"
    }
   }
  },
  {
   "cell_type": "code",
   "execution_count": 20,
   "outputs": [
    {
     "data": {
      "text/plain": "['PM2.5',\n 'PM10',\n 'SO2',\n 'NO2',\n 'CO',\n 'O3',\n 'TEMP',\n 'PRES',\n 'DEWP',\n 'RAIN',\n 'wd',\n 'WSPM']"
     },
     "execution_count": 20,
     "metadata": {},
     "output_type": "execute_result"
    }
   ],
   "source": [
    "# get columns with missing values\n",
    "columns_with_na = df.columns[df.isna().any()].tolist()\n",
    "columns_with_na"
   ],
   "metadata": {
    "collapsed": false,
    "ExecuteTime": {
     "end_time": "2023-12-11T11:15:23.493815Z",
     "start_time": "2023-12-11T11:15:23.408616Z"
    }
   }
  },
  {
   "cell_type": "code",
   "execution_count": 21,
   "outputs": [
    {
     "data": {
      "text/plain": "No         0\nyear       0\nmonth      0\nday        0\nhour       0\nPM2.5      0\nPM10       0\nSO2        0\nNO2        0\nCO         0\nO3         0\nTEMP       0\nPRES       0\nDEWP       0\nRAIN       0\nwd         0\nWSPM       0\nstation    0\ndtype: int64"
     },
     "execution_count": 21,
     "metadata": {},
     "output_type": "execute_result"
    }
   ],
   "source": [
    "# fill missing values with most frequent value\n",
    "for column in columns_with_na:\n",
    "    df[column].fillna(df[column].value_counts().index[0], inplace=True)\n",
    "    \n",
    "df.isna().sum()"
   ],
   "metadata": {
    "collapsed": false,
    "ExecuteTime": {
     "end_time": "2023-12-11T11:15:23.752587Z",
     "start_time": "2023-12-11T11:15:23.456476Z"
    }
   }
  },
  {
   "cell_type": "code",
   "execution_count": 22,
   "outputs": [
    {
     "data": {
      "text/plain": "   No  year  month  day  hour  PM2.5  PM10  SO2   NO2     CO    O3  TEMP  \\\n0   1  2013      3    1     0    6.0  18.0  5.0  16.0  800.0  88.0   0.1   \n1   2  2013      3    1     1    6.0  15.0  5.0  16.0  800.0  88.0  -0.3   \n2   3  2013      3    1     2    5.0  18.0  2.0  16.0  700.0  52.0  -0.7   \n3   4  2013      3    1     3    6.0  20.0  6.0  16.0  300.0   2.0  -1.0   \n4   5  2013      3    1     4    5.0  17.0  5.0  16.0  600.0  73.0  -1.3   \n\n     PRES  DEWP  RAIN   wd  WSPM  station                date  \n0  1021.1 -18.6   0.0   NW   4.4  Gucheng 2013-03-01 00:00:00  \n1  1021.5 -19.0   0.0   NW   4.0  Gucheng 2013-03-01 01:00:00  \n2  1021.5 -19.8   0.0  WNW   4.6  Gucheng 2013-03-01 02:00:00  \n3  1022.7 -21.2   0.0    W   2.8  Gucheng 2013-03-01 03:00:00  \n4  1023.0 -21.4   0.0  WNW   3.6  Gucheng 2013-03-01 04:00:00  ",
      "text/html": "<div>\n<style scoped>\n    .dataframe tbody tr th:only-of-type {\n        vertical-align: middle;\n    }\n\n    .dataframe tbody tr th {\n        vertical-align: top;\n    }\n\n    .dataframe thead th {\n        text-align: right;\n    }\n</style>\n<table border=\"1\" class=\"dataframe\">\n  <thead>\n    <tr style=\"text-align: right;\">\n      <th></th>\n      <th>No</th>\n      <th>year</th>\n      <th>month</th>\n      <th>day</th>\n      <th>hour</th>\n      <th>PM2.5</th>\n      <th>PM10</th>\n      <th>SO2</th>\n      <th>NO2</th>\n      <th>CO</th>\n      <th>O3</th>\n      <th>TEMP</th>\n      <th>PRES</th>\n      <th>DEWP</th>\n      <th>RAIN</th>\n      <th>wd</th>\n      <th>WSPM</th>\n      <th>station</th>\n      <th>date</th>\n    </tr>\n  </thead>\n  <tbody>\n    <tr>\n      <th>0</th>\n      <td>1</td>\n      <td>2013</td>\n      <td>3</td>\n      <td>1</td>\n      <td>0</td>\n      <td>6.0</td>\n      <td>18.0</td>\n      <td>5.0</td>\n      <td>16.0</td>\n      <td>800.0</td>\n      <td>88.0</td>\n      <td>0.1</td>\n      <td>1021.1</td>\n      <td>-18.6</td>\n      <td>0.0</td>\n      <td>NW</td>\n      <td>4.4</td>\n      <td>Gucheng</td>\n      <td>2013-03-01 00:00:00</td>\n    </tr>\n    <tr>\n      <th>1</th>\n      <td>2</td>\n      <td>2013</td>\n      <td>3</td>\n      <td>1</td>\n      <td>1</td>\n      <td>6.0</td>\n      <td>15.0</td>\n      <td>5.0</td>\n      <td>16.0</td>\n      <td>800.0</td>\n      <td>88.0</td>\n      <td>-0.3</td>\n      <td>1021.5</td>\n      <td>-19.0</td>\n      <td>0.0</td>\n      <td>NW</td>\n      <td>4.0</td>\n      <td>Gucheng</td>\n      <td>2013-03-01 01:00:00</td>\n    </tr>\n    <tr>\n      <th>2</th>\n      <td>3</td>\n      <td>2013</td>\n      <td>3</td>\n      <td>1</td>\n      <td>2</td>\n      <td>5.0</td>\n      <td>18.0</td>\n      <td>2.0</td>\n      <td>16.0</td>\n      <td>700.0</td>\n      <td>52.0</td>\n      <td>-0.7</td>\n      <td>1021.5</td>\n      <td>-19.8</td>\n      <td>0.0</td>\n      <td>WNW</td>\n      <td>4.6</td>\n      <td>Gucheng</td>\n      <td>2013-03-01 02:00:00</td>\n    </tr>\n    <tr>\n      <th>3</th>\n      <td>4</td>\n      <td>2013</td>\n      <td>3</td>\n      <td>1</td>\n      <td>3</td>\n      <td>6.0</td>\n      <td>20.0</td>\n      <td>6.0</td>\n      <td>16.0</td>\n      <td>300.0</td>\n      <td>2.0</td>\n      <td>-1.0</td>\n      <td>1022.7</td>\n      <td>-21.2</td>\n      <td>0.0</td>\n      <td>W</td>\n      <td>2.8</td>\n      <td>Gucheng</td>\n      <td>2013-03-01 03:00:00</td>\n    </tr>\n    <tr>\n      <th>4</th>\n      <td>5</td>\n      <td>2013</td>\n      <td>3</td>\n      <td>1</td>\n      <td>4</td>\n      <td>5.0</td>\n      <td>17.0</td>\n      <td>5.0</td>\n      <td>16.0</td>\n      <td>600.0</td>\n      <td>73.0</td>\n      <td>-1.3</td>\n      <td>1023.0</td>\n      <td>-21.4</td>\n      <td>0.0</td>\n      <td>WNW</td>\n      <td>3.6</td>\n      <td>Gucheng</td>\n      <td>2013-03-01 04:00:00</td>\n    </tr>\n  </tbody>\n</table>\n</div>"
     },
     "execution_count": 22,
     "metadata": {},
     "output_type": "execute_result"
    }
   ],
   "source": [
    "# add new column date from year, month, day, hour\n",
    "df[\"date\"] = pd.to_datetime(df[[\"year\", \"month\", \"day\", \"hour\"]])\n",
    "df.head()"
   ],
   "metadata": {
    "collapsed": false,
    "ExecuteTime": {
     "end_time": "2023-12-11T11:15:23.821729Z",
     "start_time": "2023-12-11T11:15:23.619210Z"
    }
   }
  },
  {
   "cell_type": "markdown",
   "source": [
    "## Exploratory Data Analysis (EDA)"
   ],
   "metadata": {
    "id": "EyPJaCDm9KFb"
   }
  },
  {
   "cell_type": "markdown",
   "source": [
    "### Explore PM2.5 distribution for each station.\n",
    "PM2.5 adalah partikel kecil yang dapat mencapai paru-paru dan bahkan aliran darah.\n",
    "PM2.5 adalah indikator yang baik untuk mengukur polusi udara.\n",
    "Semakin tinggi nilai PM2.5, semakin buruk kualitas udara.\n"
   ],
   "metadata": {
    "id": "hxgJ6qd69Mce"
   }
  },
  {
   "cell_type": "code",
   "source": [],
   "metadata": {
    "id": "Xo68yguo9LTl",
    "ExecuteTime": {
     "end_time": "2023-12-11T11:15:23.822843Z",
     "start_time": "2023-12-11T11:15:23.725539Z"
    }
   },
   "execution_count": 22,
   "outputs": []
  },
  {
   "cell_type": "markdown",
   "source": [
    "## Visualization & Explanatory Analysis"
   ],
   "metadata": {
    "id": "SCNmtOLp9OKB"
   }
  },
  {
   "cell_type": "markdown",
   "source": [
    "### Pertanyaan 1:\n",
    "Bagaimana Air Quality dari masing-masing area?"
   ],
   "metadata": {
    "id": "SG59_Fbj9Qr6"
   }
  },
  {
   "cell_type": "code",
   "execution_count": 23,
   "outputs": [
    {
     "data": {
      "text/plain": "          station       mean        std\n0    Aotizhongxin  80.669156  82.047267\n1       Changping  69.596515  72.220640\n2        Dingling  64.590090  72.060975\n3          Dongsi  84.414816  86.485888\n4        Guanyuan  81.529112  80.903847\n5         Gucheng  82.362514  82.747628\n6         Huairou  67.815537  71.080798\n7    Nongzhanguan  83.372747  86.136267\n8          Shunyi  77.499906  81.087367\n9         Tiantan  80.636431  80.873388\n10         Wanliu  82.499085  81.884362\n11  Wanshouxigong  83.396004  85.883874",
      "text/html": "<div>\n<style scoped>\n    .dataframe tbody tr th:only-of-type {\n        vertical-align: middle;\n    }\n\n    .dataframe tbody tr th {\n        vertical-align: top;\n    }\n\n    .dataframe thead th {\n        text-align: right;\n    }\n</style>\n<table border=\"1\" class=\"dataframe\">\n  <thead>\n    <tr style=\"text-align: right;\">\n      <th></th>\n      <th>station</th>\n      <th>mean</th>\n      <th>std</th>\n    </tr>\n  </thead>\n  <tbody>\n    <tr>\n      <th>0</th>\n      <td>Aotizhongxin</td>\n      <td>80.669156</td>\n      <td>82.047267</td>\n    </tr>\n    <tr>\n      <th>1</th>\n      <td>Changping</td>\n      <td>69.596515</td>\n      <td>72.220640</td>\n    </tr>\n    <tr>\n      <th>2</th>\n      <td>Dingling</td>\n      <td>64.590090</td>\n      <td>72.060975</td>\n    </tr>\n    <tr>\n      <th>3</th>\n      <td>Dongsi</td>\n      <td>84.414816</td>\n      <td>86.485888</td>\n    </tr>\n    <tr>\n      <th>4</th>\n      <td>Guanyuan</td>\n      <td>81.529112</td>\n      <td>80.903847</td>\n    </tr>\n    <tr>\n      <th>5</th>\n      <td>Gucheng</td>\n      <td>82.362514</td>\n      <td>82.747628</td>\n    </tr>\n    <tr>\n      <th>6</th>\n      <td>Huairou</td>\n      <td>67.815537</td>\n      <td>71.080798</td>\n    </tr>\n    <tr>\n      <th>7</th>\n      <td>Nongzhanguan</td>\n      <td>83.372747</td>\n      <td>86.136267</td>\n    </tr>\n    <tr>\n      <th>8</th>\n      <td>Shunyi</td>\n      <td>77.499906</td>\n      <td>81.087367</td>\n    </tr>\n    <tr>\n      <th>9</th>\n      <td>Tiantan</td>\n      <td>80.636431</td>\n      <td>80.873388</td>\n    </tr>\n    <tr>\n      <th>10</th>\n      <td>Wanliu</td>\n      <td>82.499085</td>\n      <td>81.884362</td>\n    </tr>\n    <tr>\n      <th>11</th>\n      <td>Wanshouxigong</td>\n      <td>83.396004</td>\n      <td>85.883874</td>\n    </tr>\n  </tbody>\n</table>\n</div>"
     },
     "execution_count": 23,
     "metadata": {},
     "output_type": "execute_result"
    }
   ],
   "source": [
    "# get average of PM2.5 for each area\n",
    "df_area = df.groupby(\"station\")[\"PM2.5\"].agg(['mean','std']).reset_index()\n",
    "df_area"
   ],
   "metadata": {
    "collapsed": false,
    "ExecuteTime": {
     "end_time": "2023-12-11T11:15:23.861365Z",
     "start_time": "2023-12-11T11:15:23.740301Z"
    }
   }
  },
  {
   "cell_type": "code",
   "execution_count": 24,
   "outputs": [
    {
     "ename": "KeyError",
     "evalue": "'PM2.5'",
     "output_type": "error",
     "traceback": [
      "\u001B[0;31m---------------------------------------------------------------------------\u001B[0m",
      "\u001B[0;31mKeyError\u001B[0m                                  Traceback (most recent call last)",
      "File \u001B[0;32m~/Library/Caches/pypoetry/virtualenvs/analisis-data-python-8HB_WhhO-py3.12/lib/python3.12/site-packages/pandas/core/indexes/base.py:3791\u001B[0m, in \u001B[0;36mIndex.get_loc\u001B[0;34m(self, key)\u001B[0m\n\u001B[1;32m   3790\u001B[0m \u001B[38;5;28;01mtry\u001B[39;00m:\n\u001B[0;32m-> 3791\u001B[0m     \u001B[38;5;28;01mreturn\u001B[39;00m \u001B[38;5;28;43mself\u001B[39;49m\u001B[38;5;241;43m.\u001B[39;49m\u001B[43m_engine\u001B[49m\u001B[38;5;241;43m.\u001B[39;49m\u001B[43mget_loc\u001B[49m\u001B[43m(\u001B[49m\u001B[43mcasted_key\u001B[49m\u001B[43m)\u001B[49m\n\u001B[1;32m   3792\u001B[0m \u001B[38;5;28;01mexcept\u001B[39;00m \u001B[38;5;167;01mKeyError\u001B[39;00m \u001B[38;5;28;01mas\u001B[39;00m err:\n",
      "File \u001B[0;32mindex.pyx:152\u001B[0m, in \u001B[0;36mpandas._libs.index.IndexEngine.get_loc\u001B[0;34m()\u001B[0m\n",
      "File \u001B[0;32mindex.pyx:181\u001B[0m, in \u001B[0;36mpandas._libs.index.IndexEngine.get_loc\u001B[0;34m()\u001B[0m\n",
      "File \u001B[0;32mpandas/_libs/hashtable_class_helper.pxi:7080\u001B[0m, in \u001B[0;36mpandas._libs.hashtable.PyObjectHashTable.get_item\u001B[0;34m()\u001B[0m\n",
      "File \u001B[0;32mpandas/_libs/hashtable_class_helper.pxi:7088\u001B[0m, in \u001B[0;36mpandas._libs.hashtable.PyObjectHashTable.get_item\u001B[0;34m()\u001B[0m\n",
      "\u001B[0;31mKeyError\u001B[0m: 'PM2.5'",
      "\nThe above exception was the direct cause of the following exception:\n",
      "\u001B[0;31mKeyError\u001B[0m                                  Traceback (most recent call last)",
      "Cell \u001B[0;32mIn[24], line 3\u001B[0m\n\u001B[1;32m      1\u001B[0m \u001B[38;5;66;03m# create histogram of df_area\u001B[39;00m\n\u001B[1;32m      2\u001B[0m plt\u001B[38;5;241m.\u001B[39mfigure(figsize\u001B[38;5;241m=\u001B[39m(\u001B[38;5;241m10\u001B[39m, \u001B[38;5;241m5\u001B[39m))\n\u001B[0;32m----> 3\u001B[0m plt\u001B[38;5;241m.\u001B[39mbar(df_area[\u001B[38;5;124m\"\u001B[39m\u001B[38;5;124mstation\u001B[39m\u001B[38;5;124m\"\u001B[39m], \u001B[43mdf_area\u001B[49m\u001B[43m[\u001B[49m\u001B[38;5;124;43m\"\u001B[39;49m\u001B[38;5;124;43mPM2.5\u001B[39;49m\u001B[38;5;124;43m\"\u001B[39;49m\u001B[43m]\u001B[49m)\n\u001B[1;32m      4\u001B[0m plt\u001B[38;5;241m.\u001B[39mxlabel(\u001B[38;5;124m\"\u001B[39m\u001B[38;5;124mArea\u001B[39m\u001B[38;5;124m\"\u001B[39m)\n\u001B[1;32m      5\u001B[0m plt\u001B[38;5;241m.\u001B[39mylabel(\u001B[38;5;124m\"\u001B[39m\u001B[38;5;124mPM2.5\u001B[39m\u001B[38;5;124m\"\u001B[39m)\n",
      "File \u001B[0;32m~/Library/Caches/pypoetry/virtualenvs/analisis-data-python-8HB_WhhO-py3.12/lib/python3.12/site-packages/pandas/core/frame.py:3893\u001B[0m, in \u001B[0;36mDataFrame.__getitem__\u001B[0;34m(self, key)\u001B[0m\n\u001B[1;32m   3891\u001B[0m \u001B[38;5;28;01mif\u001B[39;00m \u001B[38;5;28mself\u001B[39m\u001B[38;5;241m.\u001B[39mcolumns\u001B[38;5;241m.\u001B[39mnlevels \u001B[38;5;241m>\u001B[39m \u001B[38;5;241m1\u001B[39m:\n\u001B[1;32m   3892\u001B[0m     \u001B[38;5;28;01mreturn\u001B[39;00m \u001B[38;5;28mself\u001B[39m\u001B[38;5;241m.\u001B[39m_getitem_multilevel(key)\n\u001B[0;32m-> 3893\u001B[0m indexer \u001B[38;5;241m=\u001B[39m \u001B[38;5;28;43mself\u001B[39;49m\u001B[38;5;241;43m.\u001B[39;49m\u001B[43mcolumns\u001B[49m\u001B[38;5;241;43m.\u001B[39;49m\u001B[43mget_loc\u001B[49m\u001B[43m(\u001B[49m\u001B[43mkey\u001B[49m\u001B[43m)\u001B[49m\n\u001B[1;32m   3894\u001B[0m \u001B[38;5;28;01mif\u001B[39;00m is_integer(indexer):\n\u001B[1;32m   3895\u001B[0m     indexer \u001B[38;5;241m=\u001B[39m [indexer]\n",
      "File \u001B[0;32m~/Library/Caches/pypoetry/virtualenvs/analisis-data-python-8HB_WhhO-py3.12/lib/python3.12/site-packages/pandas/core/indexes/base.py:3798\u001B[0m, in \u001B[0;36mIndex.get_loc\u001B[0;34m(self, key)\u001B[0m\n\u001B[1;32m   3793\u001B[0m     \u001B[38;5;28;01mif\u001B[39;00m \u001B[38;5;28misinstance\u001B[39m(casted_key, \u001B[38;5;28mslice\u001B[39m) \u001B[38;5;129;01mor\u001B[39;00m (\n\u001B[1;32m   3794\u001B[0m         \u001B[38;5;28misinstance\u001B[39m(casted_key, abc\u001B[38;5;241m.\u001B[39mIterable)\n\u001B[1;32m   3795\u001B[0m         \u001B[38;5;129;01mand\u001B[39;00m \u001B[38;5;28many\u001B[39m(\u001B[38;5;28misinstance\u001B[39m(x, \u001B[38;5;28mslice\u001B[39m) \u001B[38;5;28;01mfor\u001B[39;00m x \u001B[38;5;129;01min\u001B[39;00m casted_key)\n\u001B[1;32m   3796\u001B[0m     ):\n\u001B[1;32m   3797\u001B[0m         \u001B[38;5;28;01mraise\u001B[39;00m InvalidIndexError(key)\n\u001B[0;32m-> 3798\u001B[0m     \u001B[38;5;28;01mraise\u001B[39;00m \u001B[38;5;167;01mKeyError\u001B[39;00m(key) \u001B[38;5;28;01mfrom\u001B[39;00m \u001B[38;5;21;01merr\u001B[39;00m\n\u001B[1;32m   3799\u001B[0m \u001B[38;5;28;01mexcept\u001B[39;00m \u001B[38;5;167;01mTypeError\u001B[39;00m:\n\u001B[1;32m   3800\u001B[0m     \u001B[38;5;66;03m# If we have a listlike key, _check_indexing_error will raise\u001B[39;00m\n\u001B[1;32m   3801\u001B[0m     \u001B[38;5;66;03m#  InvalidIndexError. Otherwise we fall through and re-raise\u001B[39;00m\n\u001B[1;32m   3802\u001B[0m     \u001B[38;5;66;03m#  the TypeError.\u001B[39;00m\n\u001B[1;32m   3803\u001B[0m     \u001B[38;5;28mself\u001B[39m\u001B[38;5;241m.\u001B[39m_check_indexing_error(key)\n",
      "\u001B[0;31mKeyError\u001B[0m: 'PM2.5'"
     ]
    },
    {
     "data": {
      "text/plain": "<Figure size 1000x500 with 0 Axes>"
     },
     "metadata": {},
     "output_type": "display_data"
    }
   ],
   "source": [
    "# create histogram of df_area\n",
    "plt.figure(figsize=(10, 5))\n",
    "plt.bar(df_area[\"station\"], df_area[\"PM2.5\"])\n",
    "plt.xlabel(\"Area\")\n",
    "plt.ylabel(\"PM2.5\")\n",
    "plt.title(\"Rata-rata PM2.5 untuk setiap area\")\n",
    "plt.show()"
   ],
   "metadata": {
    "collapsed": false,
    "ExecuteTime": {
     "end_time": "2023-12-11T11:15:24.556474Z",
     "start_time": "2023-12-11T11:15:23.796295Z"
    }
   }
  },
  {
   "cell_type": "code",
   "execution_count": null,
   "outputs": [],
   "source": [
    "import plotly.express as px\n",
    "\n",
    "# visualize PM2.5 over time for each area\n",
    "df_reset_index = df.reset_index()\n",
    "\n",
    "fig = px.line(df_reset_index, x=\"date\", y=\"PM2.5\", color=\"station\", title=\"PM2.5 untuk setiap area\", labels={\"date\": \"Tanggal\", \"PM2.5\": \"PM2.5\"})\n",
    "\n",
    "fig.show()"
   ],
   "metadata": {
    "collapsed": false,
    "ExecuteTime": {
     "start_time": "2023-12-11T11:15:24.557719Z"
    }
   }
  },
  {
   "cell_type": "markdown",
   "source": [
    "### Pertanyaan 2:\n",
    "\n",
    "Bagaimana Tren Air Quality dari masing-masing area dari waktu ke waktu?"
   ],
   "metadata": {
    "id": "F2Bo_ypQ9RfH"
   }
  },
  {
   "cell_type": "code",
   "source": [
    "# Get average PM2.5 for each year\n",
    "df_year = df.groupby(\"year\")[\"PM2.5\"].mean().reset_index()\n",
    "df_year"
   ],
   "metadata": {
    "id": "jkO5kTJq9S1Y",
    "ExecuteTime": {
     "start_time": "2023-12-11T11:15:24.561826Z"
    }
   },
   "execution_count": null,
   "outputs": []
  },
  {
   "cell_type": "code",
   "execution_count": null,
   "outputs": [],
   "source": [
    "# create line plot of df_year\n",
    "plt.figure(figsize=(10, 5))\n",
    "plt.plot(df_year[\"year\"], df_year[\"PM2.5\"])\n",
    "plt.xlabel(\"Tahun\")\n",
    "plt.ylabel(\"PM2.5\")\n",
    "plt.title(\"Rata-rata PM2.5 untuk setiap tahun\")\n",
    "plt.show()"
   ],
   "metadata": {
    "collapsed": false,
    "ExecuteTime": {
     "start_time": "2023-12-11T11:15:24.565242Z"
    }
   }
  },
  {
   "cell_type": "markdown",
   "source": [
    "## Conclusion"
   ],
   "metadata": {
    "id": "J2CnXYGT9Tc2"
   }
  },
  {
   "cell_type": "markdown",
   "source": [
    "### Pertanyaan 1:\n",
    "Bagaimana Air Quality dari masing-masing area?\n",
    "\n",
    "- Dari hasil visualisasi, dapat dilihat bahwa rata-rata PM2.5 tertinggi ada di area Dongsi, dan rata-rata PM2.5 terendah ada di area Dingling.\n",
    "\n",
    "### Pertanyaan 2:\n",
    "Bagaimana Tren Air Quality dari masing-masing area dari waktu ke waktu?\n",
    "\n",
    "- Dari hasil visualisasi, dapat dilihat bahwa rata-rata PM2.5 tertinggi ada di tahun 2017, dan rata-rata PM2.5 terendah ada di tahun 2016."
   ],
   "metadata": {
    "id": "f73FBkLw9V8C"
   }
  }
 ]
}
